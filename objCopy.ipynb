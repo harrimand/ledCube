{
 "metadata": {
  "name": "",
  "signature": "sha256:3757f49dc6134cb5a58d515bbcf2ba6b9a90d47b076f25865d7752c5e3b29bbf"
 },
 "nbformat": 3,
 "nbformat_minor": 0,
 "worksheets": [
  {
   "cells": [
    {
     "cell_type": "code",
     "collapsed": false,
     "input": [
      "class oCopy(object):\n",
      "    '''Testing Make a new copy of an object with data from original'''\n",
      "\n",
      "    def __init__(self):\n",
      "        self.newSeq()\n",
      "        \n",
      "    def newSeq(self):\n",
      "        ''' Fill list with numeric sequence'''\n",
      "        self.lst = range(5)\n",
      "    \n",
      "    def dub(self):\n",
      "        ''' Double items in list'''\n",
      "        self.lst = [2 * n for n in self.lst]\n",
      "   \n",
      "    def cp(self):\n",
      "        ''' Create new list and copy values from self to new list'''\n",
      "        newObj = oCopy()\n",
      "        newObj.lst = self.lst.copy()\n",
      "        return newObj\n",
      "    \n",
      "    def prn(self):\n",
      "        ''' Print items in list'''\n",
      "        for n in self.lst:\n",
      "            print(n, end='  ')\n"
     ],
     "language": "python",
     "metadata": {},
     "outputs": [],
     "prompt_number": 81
    },
    {
     "cell_type": "code",
     "collapsed": false,
     "input": [
      "\n",
      "seq = []\n",
      "\n",
      "seq.append(oCopy())\n",
      "print(\"\\nseq[0] \", end=' ')\n",
      "seq[0].prn()\n",
      "\n",
      "print('\\n\\n', seq)\n",
      "seq.append(seq[0])  #Appended reference to original object\n",
      "\n",
      "print(\"\\nseq[1] \", end=' ')\n",
      "seq[1].prn()\n",
      "print('\\n\\n', seq)\n",
      "\n",
      "seq[1].dub()  # Doubles value in original object\n",
      "print(\"\\nDoubled seq[1]          \", end=' ')\n",
      "seq[1].prn() # Print original object as referenced\n",
      "\n",
      "print(\"\\nseq[0] was doubled also \", end=' ')\n",
      "seq[0].prn() # Print original object\n",
      "print('\\n\\n', seq)\n",
      "\n",
      "seq.append(seq[0].cp()) # Use cp method to create a new object with copy...\n",
      "print(\"\\nseq[2] from seq[0].cp() method  \", end=' ') # of items in original object\n",
      "seq[2].prn()\n",
      "\n",
      "seq[2].dub()\n",
      "print(\"\\nDoubled seq[2]                  \", end=' ') # Doubles new object alone\n",
      "seq[2].prn()\n",
      "\n",
      "print(\"\\nseq[0] was not doubled this time\", end=' ')\n",
      "seq[0].prn()\n",
      "print('\\n\\n', seq)\n",
      "\n"
     ],
     "language": "python",
     "metadata": {},
     "outputs": [
      {
       "output_type": "stream",
       "stream": "stdout",
       "text": [
        "\n",
        "seq[0]  0  1  2  3  4  \n",
        "\n",
        " [<__main__.oCopy object at 0x7f3ad027fd68>]\n",
        "\n",
        "seq[1]  0  1  2  3  4  \n",
        "\n",
        " [<__main__.oCopy object at 0x7f3ad027fd68>, <__main__.oCopy object at 0x7f3ad027fd68>]\n",
        "\n",
        "Doubled seq[1]           0  2  4  6  8  \n",
        "seq[0] was doubled also  0  2  4  6  8  \n",
        "\n",
        " [<__main__.oCopy object at 0x7f3ad027fd68>, <__main__.oCopy object at 0x7f3ad027fd68>]\n",
        "\n",
        "seq[2] from seq[0].cp() method   0  2  4  6  8  \n",
        "Doubled seq[2]                   0  4  8  12  16  \n",
        "seq[0] was not doubled this time 0  2  4  6  8  \n",
        "\n",
        " [<__main__.oCopy object at 0x7f3ad027fd68>, <__main__.oCopy object at 0x7f3ad027fd68>, <__main__.oCopy object at 0x7f3ad02abd68>]\n"
       ]
      }
     ],
     "prompt_number": 82
    }
   ],
   "metadata": {}
  }
 ]
}